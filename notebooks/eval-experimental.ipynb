{
 "cells": [
  {
   "cell_type": "code",
   "execution_count": 6,
   "metadata": {},
   "outputs": [],
   "source": [
    "import pandas as pd\n",
    "import matplotlib.pyplot as plt"
   ]
  },
  {
   "cell_type": "code",
   "execution_count": 33,
   "metadata": {},
   "outputs": [],
   "source": [
    "datasets = pd.read_csv('Bandas-metricas.csv')"
   ]
  },
  {
   "cell_type": "code",
   "execution_count": 65,
   "metadata": {},
   "outputs": [
    {
     "data": {
      "image/png": "[encoded data removed]",
      "text/plain": [
       "<Figure size 432x288 with 1 Axes>"
      ]
     },
     "metadata": {},
     "output_type": "display_data"
    }
   ],
   "source": [
    "plt.title('Trade-off Avg-Precision/Overlapping')\n",
    "x = datasets['average precision'].values\n",
    "y = datasets['overlapping mean'].values\n",
    "plt.xlabel('Average Precision')\n",
    "plt.ylabel('Overlapping Mean')\n",
    "plt.scatter(x,y)\n",
    "plt.show()"
   ]
  },
  {
   "cell_type": "code",
   "execution_count": 141,
   "metadata": {},
   "outputs": [
    {
     "data": {
      "image/png": "[encoded data removed]",
      "text/plain": [
       "<Figure size 432x288 with 1 Axes>"
      ]
     },
     "metadata": {},
     "output_type": "display_data"
    }
   ],
   "source": [
    "plt.title('Trade-off Precision-Recall')\n",
    "x = datasets['Precision'].values\n",
    "y = datasets['Recall'].values\n",
    "\n",
    "plt.xlabel('Precision')\n",
    "plt.ylabel('Recall')\n",
    "plt.scatter(x,y, c=datasets.Bandas.values)\n",
    "plt.legend(datasets.Bandas.values)\n",
    "plt.show()"
   ]
  },
  {
   "cell_type": "code",
   "execution_count": 67,
   "metadata": {},
   "outputs": [
    {
     "data": {
      "text/html": [
       "<div>\n",
       "<style scoped>\n",
       "    .dataframe tbody tr th:only-of-type {\n",
       "        vertical-align: middle;\n",
       "    }\n",
       "\n",
       "    .dataframe tbody tr th {\n",
       "        vertical-align: top;\n",
       "    }\n",
       "\n",
       "    .dataframe thead th {\n",
       "        text-align: right;\n",
       "    }\n",
       "</style>\n",
       "<table border=\"1\" class=\"dataframe\">\n",
       "  <thead>\n",
       "    <tr style=\"text-align: right;\">\n",
       "      <th></th>\n",
       "      <th>Bandas</th>\n",
       "      <th>C</th>\n",
       "      <th>Precision</th>\n",
       "      <th>Recall</th>\n",
       "      <th>overlapping mean</th>\n",
       "      <th>average precision</th>\n",
       "    </tr>\n",
       "  </thead>\n",
       "  <tbody>\n",
       "    <tr>\n",
       "      <th>Bandas</th>\n",
       "      <td>1.000000</td>\n",
       "      <td>-0.191891</td>\n",
       "      <td>-0.233494</td>\n",
       "      <td>-0.307546</td>\n",
       "      <td>0.281674</td>\n",
       "      <td>-0.167982</td>\n",
       "    </tr>\n",
       "    <tr>\n",
       "      <th>C</th>\n",
       "      <td>-0.191891</td>\n",
       "      <td>1.000000</td>\n",
       "      <td>0.210214</td>\n",
       "      <td>0.369047</td>\n",
       "      <td>0.002933</td>\n",
       "      <td>-0.007546</td>\n",
       "    </tr>\n",
       "    <tr>\n",
       "      <th>Precision</th>\n",
       "      <td>-0.233494</td>\n",
       "      <td>0.210214</td>\n",
       "      <td>1.000000</td>\n",
       "      <td>0.801241</td>\n",
       "      <td>0.249127</td>\n",
       "      <td>0.193372</td>\n",
       "    </tr>\n",
       "    <tr>\n",
       "      <th>Recall</th>\n",
       "      <td>-0.307546</td>\n",
       "      <td>0.369047</td>\n",
       "      <td>0.801241</td>\n",
       "      <td>1.000000</td>\n",
       "      <td>0.296459</td>\n",
       "      <td>0.170046</td>\n",
       "    </tr>\n",
       "    <tr>\n",
       "      <th>overlapping mean</th>\n",
       "      <td>0.281674</td>\n",
       "      <td>0.002933</td>\n",
       "      <td>0.249127</td>\n",
       "      <td>0.296459</td>\n",
       "      <td>1.000000</td>\n",
       "      <td>0.525770</td>\n",
       "    </tr>\n",
       "    <tr>\n",
       "      <th>average precision</th>\n",
       "      <td>-0.167982</td>\n",
       "      <td>-0.007546</td>\n",
       "      <td>0.193372</td>\n",
       "      <td>0.170046</td>\n",
       "      <td>0.525770</td>\n",
       "      <td>1.000000</td>\n",
       "    </tr>\n",
       "  </tbody>\n",
       "</table>\n",
       "</div>"
      ],
      "text/plain": [
       "                     Bandas         C  Precision    Recall  overlapping mean  \\\n",
       "Bandas             1.000000 -0.191891  -0.233494 -0.307546          0.281674   \n",
       "C                 -0.191891  1.000000   0.210214  0.369047          0.002933   \n",
       "Precision         -0.233494  0.210214   1.000000  0.801241          0.249127   \n",
       "Recall            -0.307546  0.369047   0.801241  1.000000          0.296459   \n",
       "overlapping mean   0.281674  0.002933   0.249127  0.296459          1.000000   \n",
       "average precision -0.167982 -0.007546   0.193372  0.170046          0.525770   \n",
       "\n",
       "                   average precision  \n",
       "Bandas                     -0.167982  \n",
       "C                          -0.007546  \n",
       "Precision                   0.193372  \n",
       "Recall                      0.170046  \n",
       "overlapping mean            0.525770  \n",
       "average precision           1.000000  "
      ]
     },
     "execution_count": 67,
     "metadata": {},
     "output_type": "execute_result"
    }
   ],
   "source": [
    "datasets.corr()"
   ]
  }
 ],
 "metadata": {
  "kernelspec": {
   "display_name": "Python 3",
   "language": "python",
   "name": "python3"
  },
  "language_info": {
   "codemirror_mode": {
    "name": "ipython",
    "version": 3
   },
   "file_extension": ".py",
   "mimetype": "text/x-python",
   "name": "python",
   "nbconvert_exporter": "python",
   "pygments_lexer": "ipython3",
   "version": "3.6.5"
  }
 },
 "nbformat": 4,
 "nbformat_minor": 2
}
