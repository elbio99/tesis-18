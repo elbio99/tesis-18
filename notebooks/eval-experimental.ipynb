{
 "cells": [
  {
   "cell_type": "code",
   "execution_count": 11,
   "metadata": {},
   "outputs": [],
   "source": [
    "import pandas as pd\n",
    "import matplotlib.pyplot as plt"
   ]
  },
  {
   "cell_type": "code",
   "execution_count": 2,
   "metadata": {},
   "outputs": [],
   "source": [
    "datasets = pd.read_csv('Bandas-metricas.csv')"
   ]
  },
  {
   "cell_type": "code",
   "execution_count": 8,
   "metadata": {},
   "outputs": [
    {
     "data": {
      "image/png": "[encoded data removed]",
      "text/plain": [
       "<Figure size 720x504 with 1 Axes>"
      ]
     },
     "metadata": {},
     "output_type": "display_data"
    }
   ],
   "source": [
    "plt.figure(figsize=(10,7))\n",
    "plt.title('Trade-off Avg-Precision/Overlapping')\n",
    "x = datasets['average precision'].values\n",
    "y = datasets['overlapping mean'].values\n",
    "plt.xlabel('Average Precision')\n",
    "plt.ylabel('Overlapping Mean')\n",
    "plt.scatter(x,y)\n",
    "plt.savefig('presicion-over')\n",
    "plt.show()"
   ]
  },
  {
   "cell_type": "code",
   "execution_count": 141,
   "metadata": {},
   "outputs": [
    {
     "data": {
      "image/png": "[encoded data removed]",
      "text/plain": [
       "<Figure size 432x288 with 1 Axes>"
      ]
     },
     "metadata": {},
     "output_type": "display_data"
    }
   ],
   "source": [
    "plt.title('Trade-off Precision-Recall')\n",
    "x = datasets['Precision'].values\n",
    "y = datasets['Recall'].values\n",
    "\n",
    "plt.xlabel('Precision')\n",
    "plt.ylabel('Recall')\n",
    "plt.scatter(x,y, c=datasets.Bandas.values)\n",
    "plt.legend(datasets.Bandas.values)\n",
    "plt.show()"
   ]
  },
  {
   "cell_type": "code",
   "execution_count": 10,
   "metadata": {},
   "outputs": [
    {
     "data": {
      "text/html": [
       "<div>\n",
       "<style scoped>\n",
       "    .dataframe tbody tr th:only-of-type {\n",
       "        vertical-align: middle;\n",
       "    }\n",
       "\n",
       "    .dataframe tbody tr th {\n",
       "        vertical-align: top;\n",
       "    }\n",
       "\n",
       "    .dataframe thead th {\n",
       "        text-align: right;\n",
       "    }\n",
       "</style>\n",
       "<table border=\"1\" class=\"dataframe\">\n",
       "  <thead>\n",
       "    <tr style=\"text-align: right;\">\n",
       "      <th></th>\n",
       "      <th>Bandas</th>\n",
       "      <th>C</th>\n",
       "      <th>Precision</th>\n",
       "      <th>Recall</th>\n",
       "      <th>overlapping mean</th>\n",
       "      <th>average precision</th>\n",
       "    </tr>\n",
       "  </thead>\n",
       "  <tbody>\n",
       "    <tr>\n",
       "      <th>Bandas</th>\n",
       "      <td>1.000000</td>\n",
       "      <td>-0.191891</td>\n",
       "      <td>-0.233494</td>\n",
       "      <td>-0.307546</td>\n",
       "      <td>0.281674</td>\n",
       "      <td>-0.167982</td>\n",
       "    </tr>\n",
       "    <tr>\n",
       "      <th>C</th>\n",
       "      <td>-0.191891</td>\n",
       "      <td>1.000000</td>\n",
       "      <td>0.210214</td>\n",
       "      <td>0.369047</td>\n",
       "      <td>0.002933</td>\n",
       "      <td>-0.007546</td>\n",
       "    </tr>\n",
       "    <tr>\n",
       "      <th>Precision</th>\n",
       "      <td>-0.233494</td>\n",
       "      <td>0.210214</td>\n",
       "      <td>1.000000</td>\n",
       "      <td>0.801241</td>\n",
       "      <td>0.249127</td>\n",
       "      <td>0.193372</td>\n",
       "    </tr>\n",
       "    <tr>\n",
       "      <th>Recall</th>\n",
       "      <td>-0.307546</td>\n",
       "      <td>0.369047</td>\n",
       "      <td>0.801241</td>\n",
       "      <td>1.000000</td>\n",
       "      <td>0.296459</td>\n",
       "      <td>0.170046</td>\n",
       "    </tr>\n",
       "    <tr>\n",
       "      <th>overlapping mean</th>\n",
       "      <td>0.281674</td>\n",
       "      <td>0.002933</td>\n",
       "      <td>0.249127</td>\n",
       "      <td>0.296459</td>\n",
       "      <td>1.000000</td>\n",
       "      <td>0.525770</td>\n",
       "    </tr>\n",
       "    <tr>\n",
       "      <th>average precision</th>\n",
       "      <td>-0.167982</td>\n",
       "      <td>-0.007546</td>\n",
       "      <td>0.193372</td>\n",
       "      <td>0.170046</td>\n",
       "      <td>0.525770</td>\n",
       "      <td>1.000000</td>\n",
       "    </tr>\n",
       "  </tbody>\n",
       "</table>\n",
       "</div>"
      ],
      "text/plain": [
       "                     Bandas         C  Precision    Recall  overlapping mean  \\\n",
       "Bandas             1.000000 -0.191891  -0.233494 -0.307546          0.281674   \n",
       "C                 -0.191891  1.000000   0.210214  0.369047          0.002933   \n",
       "Precision         -0.233494  0.210214   1.000000  0.801241          0.249127   \n",
       "Recall            -0.307546  0.369047   0.801241  1.000000          0.296459   \n",
       "overlapping mean   0.281674  0.002933   0.249127  0.296459          1.000000   \n",
       "average precision -0.167982 -0.007546   0.193372  0.170046          0.525770   \n",
       "\n",
       "                   average precision  \n",
       "Bandas                     -0.167982  \n",
       "C                          -0.007546  \n",
       "Precision                   0.193372  \n",
       "Recall                      0.170046  \n",
       "overlapping mean            0.525770  \n",
       "average precision           1.000000  "
      ]
     },
     "execution_count": 10,
     "metadata": {},
     "output_type": "execute_result"
    }
   ],
   "source": [
    "datasets.corr()"
   ]
  },
  {
   "cell_type": "markdown",
   "metadata": {},
   "source": [
    "# Graficar Detecciones"
   ]
  },
  {
   "cell_type": "code",
   "execution_count": 22,
   "metadata": {},
   "outputs": [],
   "source": [
    "from PIL import Image\n",
    "from PIL import ImageDraw\n",
    "import cv2\n",
    "import numpy as np\n",
    "import scipy.io as sio\n",
    "from sklearn.externals import joblib\n",
    "from sklearn.preprocessing import normalize"
   ]
  },
  {
   "cell_type": "code",
   "execution_count": 23,
   "metadata": {},
   "outputs": [
    {
     "name": "stderr",
     "output_type": "stream",
     "text": [
      "/home/ezapata/.virtualenvs/tesis-informe/lib/python3.6/site-packages/sklearn/base.py:311: UserWarning: Trying to unpickle estimator SVC from version 0.18.1 when using version 0.19.2. This might lead to breaking code or invalid results. Use at your own risk.\n",
      "  UserWarning)\n"
     ]
    }
   ],
   "source": [
    "imagen = Image.open(\"../imagenes/Evaluacion-exp/img_muestra.tif\")\n",
    "modelo = joblib.load(\"HNM-9711.sav\")\n",
    "#datos de test\n",
    "datos = 'TCOLOR_npp_d20170717_t1724069_e1729455_b00001_c20170717215509558621_cgss_ops_20170828161438.mat'"
   ]
  },
  {
   "cell_type": "code",
   "execution_count": 3,
   "metadata": {},
   "outputs": [],
   "source": [
    "def read_matlab_file(file_matlab):\n",
    "    \"\"\"Return metadata from image.\"\"\"\n",
    "    dicc =sio.loadmat(file_matlab)\n",
    "    proposal = dicc[\"coord\"]\n",
    "    label = dicc[\"value\"]\n",
    "    fvector = dicc[\"vectorf\"]\n",
    "    return np.squeeze(label) ,proposal, fvector"
   ]
  },
  {
   "cell_type": "code",
   "execution_count": 5,
   "metadata": {},
   "outputs": [],
   "source": [
    "label, bboxs, features = read_matlab_file(datos)"
   ]
  },
  {
   "cell_type": "code",
   "execution_count": 7,
   "metadata": {},
   "outputs": [],
   "source": [
    "features = normalize(features)\n",
    "inference = modelo.predict(features)"
   ]
  },
  {
   "cell_type": "code",
   "execution_count": 25,
   "metadata": {},
   "outputs": [
    {
     "name": "stdout",
     "output_type": "stream",
     "text": [
      "Region 0, coordenadas(889, 2881, 127, 127)\n",
      "Region 1, coordenadas(889, 2881, 285, 127)\n",
      "Region 2, coordenadas(630, 2881, 441, 127)\n",
      "Region 3, coordenadas(870, 2756, 196, 124)\n",
      "Region 4, coordenadas(986, 1217, 262, 105)\n",
      "Region 5, coordenadas(1092, 1217, 219, 99)\n",
      "Region 6, coordenadas(1126, 1153, 132, 127)\n",
      "Region 7, coordenadas(1022, 1153, 226, 127)\n"
     ]
    },
    {
     "ename": "TypeError",
     "evalue": "img is not a numpy array, neither a scalar",
     "output_type": "error",
     "traceback": [
      "\u001b[0;31m---------------------------------------------------------------------------\u001b[0m",
      "\u001b[0;31mTypeError\u001b[0m                                 Traceback (most recent call last)",
      "\u001b[0;32m<ipython-input-25-63c37c50eb7e>\u001b[0m in \u001b[0;36m<module>\u001b[0;34m()\u001b[0m\n\u001b[1;32m      5\u001b[0m     \u001b[0mcv2\u001b[0m\u001b[0;34m.\u001b[0m\u001b[0mrectangle\u001b[0m\u001b[0;34m(\u001b[0m\u001b[0mimg\u001b[0m\u001b[0;34m,\u001b[0m\u001b[0;34m(\u001b[0m\u001b[0mx\u001b[0m\u001b[0;34m,\u001b[0m\u001b[0my\u001b[0m\u001b[0;34m)\u001b[0m\u001b[0;34m,\u001b[0m\u001b[0;34m(\u001b[0m\u001b[0mx\u001b[0m\u001b[0;34m+\u001b[0m\u001b[0mw\u001b[0m\u001b[0;34m,\u001b[0m\u001b[0my\u001b[0m\u001b[0;34m+\u001b[0m\u001b[0mh\u001b[0m\u001b[0;34m)\u001b[0m\u001b[0;34m,\u001b[0m\u001b[0;34m(\u001b[0m\u001b[0;36m255\u001b[0m\u001b[0;34m,\u001b[0m\u001b[0;36m0\u001b[0m\u001b[0;34m,\u001b[0m\u001b[0;36m0\u001b[0m\u001b[0;34m)\u001b[0m\u001b[0;34m,\u001b[0m\u001b[0;36m5\u001b[0m\u001b[0;34m)\u001b[0m\u001b[0;34m\u001b[0m\u001b[0m\n\u001b[1;32m      6\u001b[0m \u001b[0;31m# guardar resultados\u001b[0m\u001b[0;34m\u001b[0m\u001b[0;34m\u001b[0m\u001b[0m\n\u001b[0;32m----> 7\u001b[0;31m \u001b[0mcv2\u001b[0m\u001b[0;34m.\u001b[0m\u001b[0mimwrite\u001b[0m\u001b[0;34m(\u001b[0m\u001b[0;34m'../imagenes/Evaluacion-exp/prediction-9711.png'\u001b[0m\u001b[0;34m,\u001b[0m \u001b[0mimg\u001b[0m\u001b[0;34m.\u001b[0m\u001b[0mtranspose\u001b[0m\u001b[0;34m)\u001b[0m\u001b[0;34m\u001b[0m\u001b[0m\n\u001b[0m",
      "\u001b[0;31mTypeError\u001b[0m: img is not a numpy array, neither a scalar"
     ]
    }
   ],
   "source": [
    "img = imagen.copy()\n",
    "img = np.array(img)\n",
    "for i, (x,y,w,h) in enumerate(bboxs[np.where(inference==1)]):\n",
    "    print('Region {}, coordenadas{}'.format(i,(x,y,w,h)))\n",
    "    cv2.rectangle(img,(x,y),(x+w,y+h),(255,0,0),5)\n",
    "# guardar resultados\n",
    "cv2.imwrite('../imagenes/Evaluacion-exp/prediction-9711.png', cv2.cvtColor(img, cv2.B) img)"
   ]
  }
 ],
 "metadata": {
  "kernelspec": {
   "display_name": "Python 2",
   "language": "python",
   "name": "python2"
  },
  "language_info": {
   "codemirror_mode": {
    "name": "ipython",
    "version": 2
   },
   "file_extension": ".py",
   "mimetype": "text/x-python",
   "name": "python",
   "nbconvert_exporter": "python",
   "pygments_lexer": "ipython2",
   "version": "2.7.12"
  }
 },
 "nbformat": 4,
 "nbformat_minor": 2
}
